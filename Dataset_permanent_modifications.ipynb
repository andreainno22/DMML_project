{
 "cells": [
  {
   "metadata": {},
   "cell_type": "markdown",
   "source": "Saving the surface info in the dataset",
   "id": "9f3f9d8687384743"
  },
  {
   "metadata": {
    "ExecuteTime": {
     "end_time": "2025-04-22T14:49:27.644237Z",
     "start_time": "2025-04-22T14:49:21.291833Z"
    }
   },
   "cell_type": "code",
   "source": [
    "import pandas as pd\n",
    "\n",
    "df_men = pd.read_csv('charting-m-points-2020s-original.csv', low_memory=False)\n",
    "tournaments = df_men[\"match_id\"].str.extract(r'\\w*-\\w*-(.*?)-.*')[0].unique()\n",
    "\n",
    "\n",
    "tournaments_and_surfaces={'United_Cup':\"hard\", 'NextGen_Finals':\"hard\", 'Yokkaichi_CH':\"hard\", 'Temuco_CH':\"hard\",\n",
    "       'Maia_CH':\"clay\", 'Puerto_Vallarta_CH':\"hard\", 'Davis_Cup_Finals':\"hard\", 'Montemar_CH':\"clay\",\n",
    "       'Roverto_CH':\"hard\", 'Yokohama_CH':\"hard\", 'Tour_Finals':\"hard\", 'Champaign_CH':\"hard\",\n",
    "       'Helsinki_CH':\"hard\", 'Knoxville_CH':\"hard\", 'Paris_Masters':\"hard\", 'Brazzaville_CH':\"clay\",\n",
    "       'Guayaquil_CH':\"clay\", 'Bratislava_2_CH':\"clay\", 'Charlottesville_CH':\"hard\",\n",
    "       'Sydney_CH':\"hard\", 'Basel':\"hard\", 'Curitiba_CH':\"clay\", 'Brest_CH':\"hard\", 'Vienna':\"hard\",\n",
    "       'Six_Kings_Slam':\"hard\", 'Antwerp':\"hard\", 'Stockholm':\"hard\", 'Campinas_CH':\"clay\",\n",
    "       'Villa_Maria_CH':\"clay\", 'Shanghai_Masters':\"hard\", 'Tiburon_CH':\"hard\", 'Beijing':\"hard\",\n",
    "       'Tokyo':\"hard\", 'Antofagasta_CH':\"clay\", 'Hangzhou':\"hard\", 'Saint_Tropez_CH':\"hard\",\n",
    "       'Chengdu':\"hard\", 'Davis_Cup_World_Group':\"hard\", 'Dobrich_CH':\"clay\", 'US_Open':\"hard\",\n",
    "       'Winston_Salem':\"hard\", 'Cincinnati_Masters':\"hard\", 'Canada_Masters':\"hard\",\n",
    "       'Bogota_CH':\"clay\", 'Lincoln_CH':\"hard\", 'Lexington_CH':\"hard\", 'Olympics':\"hard\",\n",
    "       'Luedenscheid':\"clay\", 'Washington':\"hard\", 'Paris_Olympics':\"clay\", 'Umag':\"clay\",\n",
    "       'Chicago_CH':\"hard\", 'Atlanta':\"hard\", 'Hamburg':\"grass\", 'Gstaad':\"clay\", 'Newport':\"grass\",\n",
    "       'Granby_CH':\"hard\", 'Bastad':\"clay\", 'Braunschweig_CH':\"clay\", 'Wimbledon':\"grass\",\n",
    "       'Winnipeg_CH':\"hard\", 'ITF_Tokyo':\"hard\", 'Karlsruhe_CH':\"clay\", 'Bloomfield_Hills_CH':\"hard\",\n",
    "       'Eastbourne':\"grass\", 'Queens_Club':\"grass\", 'Halle':\"grass\", 'Sassuolo_CH':\"clay\",\n",
    "       's_Hertogenbosch':\"grass\", 'Stuttgart':\"grass\", 'Roland_Garros':\"clay\",\n",
    "       'Roland_Garros_Juniors':\"clay\", 'Prostejov_CH':\"clay\", 'Vicenza_CH':\"clay\", 'Geneva':\"clay\",\n",
    "       'Rome_Masters':\"clay\", 'Bordeaux_CH':\"clay\", 'Madrid_Masters':\"clay\", 'Cagliari_CH':\"clay\",\n",
    "       'Guangzhou_CH':\"hard\", 'Madrid':\"clay\", 'Munich':\"clay\", 'Bucharest':\"clay\", 'Barcelona':\"clay\",\n",
    "       'Acapulco_CH':\"hard\", 'Monte_Carlo_Masters':\"clay\", 'Estoril':\"clay\", 'Barcelona_CH':\"clay\",\n",
    "       'Miami_Masters':\"hard\", 'San_Luis_Potosi_CH':\"clay\", 'Indian_Wells_Masters':\"hard\",\n",
    "       'Sao_Leopoldo_CH':\"hard\", 'Asuncion_CH':\"clay\", 'Szekesfehervar_CH':\"clay\", 'Santiago':\"clay\",\n",
    "       'Dubai':\"hard\", 'Acapulco':\"hard\", 'Rio_de_Janeiro':\"clay\", 'Los_Cabos':\"hard\", 'Doha':\"hard\",\n",
    "       'Rotterdam':\"hard\", 'Delray_Beach':\"hard\", 'Buenos_Aires':\"clay\", 'Marseille':\"hard\",\n",
    "       'Cordoba':\"clay\", 'Dallas':\"hard\", 'Montpellier':\"hard\", 'Davis_Cup_Qualifiers':\"hard\",\n",
    "       'Cleveland_CH':\"hard\", 'Australian_Open':\"hard\", 'Australian_Open_Juniors':\"hard\",\n",
    "       'Quimper_CH':\"hard\", 'Buenos_Aires_CH':\"clay\", 'Adelaide':\"hard\", 'Auckland':\"hard\",\n",
    "       'Brisbane':\"hard\", 'Hong_Kong':\"hard\", 'Dutch_Championships':\"clay\", 'Ismaning_CH':\"grass\",\n",
    "       'Astana':\"hard\", 'Kitzbuhel':\"clay\", 'Amersfoort_CH':\"clay\", 'Lyon':\"clay\", 'Rome':\"clay\",\n",
    "       'Aix_En_Provence_CH':\"clay\", 'Rome_CH':\"clay\", 'Banja_Luka':\"clay\", 'Marrakech':\"clay\",\n",
    "       'Houston':\"clay\", 'Manama_CH':\"hard\", 'Davis_Cup_WG2':\"hard\", 'Tigre_CH':\"clay\", 'Oeiras_CH':\"clay\",\n",
    "       'Nonthaburi_CH':\"hard\", 'Pune':\"hard\", 'Valencia_CH':\"clay\", 'Roanne_CH':\"hard\", 'Bergamo_CH':\"hard\",\n",
    "       'Vilnius_CH':\"hard\", 'Naples':\"clay\", 'Naples_CH':\"clay\", 'Ortisei_CH':\"hard\", 'Gijon':\"hard\",\n",
    "       'Florence':\"hard\", 'Mouilleron_CH':\"hard\", 'Alicante_CH':\"clay\", 'Tel_Aviv':\"hard\", 'Sofia':\"hard\",\n",
    "       'Seoul':\"hard\", 'Orleans_CH':\"hard\", 'Metz':\"hard\", 'Laver_Cup':\"hard\", 'San_Diego':\"hard\",\n",
    "       'Rennes_CH':\"hard\", 'Tulln_CH':\"clay\", 'San_Benedetto_del_Tronto_CH':\"clay\",\n",
    "       'Indianapolis_CH':\"hard\", 'Verona_CH':\"clay\", 'Rome_GA_CH':\"clay\", 'Wimbledon_Juniors':\"grass\",\n",
    "       'Corrientes_CH':\"clay\", 'Shymkent_CH':\"clay\", 'Zagreb_CH':\"clay\", 'Belgrade':\"hard\",\n",
    "       'Barletta_CH':\"clay\", 'Lugano_CH':\"hard\", 'Zadar_CH':\"clay\", 'ITF_Santo_Domingo':\"clay\",\n",
    "       'Forli_CH':\"clay\", 'Sydney':\"hard\", 'Melbourne':\"hard\", 'ATP_Cup':\"hard\", 'French_Club':\"clay\",\n",
    "       'Pau_CH':\"hard\", 'Bratislava_CH':\"clay\", 'Tenerife_CH':\"hard\", 'Eckental_CH':\"grass\",\n",
    "       'St_Petersburg':\"hard\", 'Ercolano_CH':\"clay\", 'Villena_CH':\"hard\", 'Napoli_CH':\"clay\",\n",
    "       'Santiago_CH':\"clay\", 'Murcia_CH':\"clay\", 'Davis_Cup_Group_I':\"hard\", 'Segovia_CH':\"hard\",\n",
    "       'ITF_Champaign':\"hard\", 'Tokyo_Olympics':\"hard\", 'Poznan_CH':\"clay\", 'ITF_The_Hague':\"clay\",\n",
    "       'ITF_Alkmaar':\"clay\", 'Almaty_CH':\"hard\", 'Lyon_CH':\"clay\", 'Little_Rock_CH':\"hard\",\n",
    "       'Prague_CH':\"clay\", 'Orlando_CH':\"hard\", 'Split_CH':\"clay\", 'Lille_CH':\"hard\", 'Singapore':\"hard\",\n",
    "       'Great_Ocean_Road_Open':\"hard\", 'Antalya':\"clay\", 'Lima_CH':\"clay\", 'Cologne':\"hard\",\n",
    "       'Davis_Cup_WG_II':\"hard\", 'Columbus_CH':\"hard\", 'Koblenz_CH':\"hard\", 'New_York':\"hard\",\n",
    "       'Punta_del_Este_CH':\"clay\", 'Bangkok_CH':\"hard\", 'Noumea_CH':\"hard\"}\n",
    "\n",
    "# Mappa direttamente il tipo di superficie utilizzando l'espressione regolare e il dizionario\n",
    "df_men['surface'] = df_men['match_id'].str.extract(r'\\w*-\\w*-(.*?)-.*')[0].map(tournaments_and_surfaces)\n",
    "# Salva il DataFrame aggiornato con la colonna 'surface' nello stesso file\n",
    "df_men.to_csv('charting-m-points-2020s.csv', index=False)"
   ],
   "id": "83f0064202882afc",
   "outputs": [],
   "execution_count": 1
  },
  {
   "metadata": {},
   "cell_type": "markdown",
   "source": "Dropping players that did not have play on all the surfaces",
   "id": "baf3a2923e3a4a4b"
  },
  {
   "metadata": {},
   "cell_type": "code",
   "outputs": [],
   "execution_count": null,
   "source": "",
   "id": "80ab27a59d0b36bc"
  }
 ],
 "metadata": {
  "kernelspec": {
   "display_name": "Python 3",
   "language": "python",
   "name": "python3"
  },
  "language_info": {
   "codemirror_mode": {
    "name": "ipython",
    "version": 2
   },
   "file_extension": ".py",
   "mimetype": "text/x-python",
   "name": "python",
   "nbconvert_exporter": "python",
   "pygments_lexer": "ipython2",
   "version": "2.7.6"
  }
 },
 "nbformat": 4,
 "nbformat_minor": 5
}
