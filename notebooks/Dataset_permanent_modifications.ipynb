{
 "cells": [
  {
   "metadata": {
    "ExecuteTime": {
     "end_time": "2025-05-16T13:37:13.113037Z",
     "start_time": "2025-05-16T13:37:12.916883Z"
    }
   },
   "cell_type": "code",
   "source": [
    "%load_ext autoreload\n",
    "%autoreload 2\n"
   ],
   "id": "9887ad107ee10dba",
   "outputs": [],
   "execution_count": 6
  },
  {
   "metadata": {},
   "cell_type": "markdown",
   "source": "Saving the surface info in the dataset",
   "id": "9f3f9d8687384743"
  },
  {
   "metadata": {},
   "cell_type": "code",
   "source": [
    "import pandas as pd\n",
    "\n",
    "df_men = pd.read_csv('../points_datasets/charting-m-points-2020s-original.csv', low_memory=False)\n",
    "tournaments = df_men[\"match_id\"].str.extract(r'\\w*-\\w*-(.*?)-.*')[0].unique()\n",
    "\n",
    "\n",
    "tournaments_and_surfaces={'United_Cup':\"hard\", 'NextGen_Finals':\"hard\", 'Yokkaichi_CH':\"hard\", 'Temuco_CH':\"hard\",\n",
    "       'Maia_CH':\"clay\", 'Puerto_Vallarta_CH':\"hard\", 'Davis_Cup_Finals':\"hard\", 'Montemar_CH':\"clay\",\n",
    "       'Roverto_CH':\"hard\", 'Yokohama_CH':\"hard\", 'Tour_Finals':\"hard\", 'Champaign_CH':\"hard\",\n",
    "       'Helsinki_CH':\"hard\", 'Knoxville_CH':\"hard\", 'Paris_Masters':\"hard\", 'Brazzaville_CH':\"clay\",\n",
    "       'Guayaquil_CH':\"clay\", 'Bratislava_2_CH':\"clay\", 'Charlottesville_CH':\"hard\",\n",
    "       'Sydney_CH':\"hard\", 'Basel':\"hard\", 'Curitiba_CH':\"clay\", 'Brest_CH':\"hard\", 'Vienna':\"hard\",\n",
    "       'Six_Kings_Slam':\"hard\", 'Antwerp':\"hard\", 'Stockholm':\"hard\", 'Campinas_CH':\"clay\",\n",
    "       'Villa_Maria_CH':\"clay\", 'Shanghai_Masters':\"hard\", 'Tiburon_CH':\"hard\", 'Beijing':\"hard\",\n",
    "       'Tokyo':\"hard\", 'Antofagasta_CH':\"clay\", 'Hangzhou':\"hard\", 'Saint_Tropez_CH':\"hard\",\n",
    "       'Chengdu':\"hard\", 'Davis_Cup_World_Group':\"hard\", 'Dobrich_CH':\"clay\", 'US_Open':\"hard\",\n",
    "       'Winston_Salem':\"hard\", 'Cincinnati_Masters':\"hard\", 'Canada_Masters':\"hard\",\n",
    "       'Bogota_CH':\"clay\", 'Lincoln_CH':\"hard\", 'Lexington_CH':\"hard\", 'Olympics':\"hard\",\n",
    "       'Luedenscheid':\"clay\", 'Washington':\"hard\", 'Paris_Olympics':\"clay\", 'Umag':\"clay\",\n",
    "       'Chicago_CH':\"hard\", 'Atlanta':\"hard\", 'Hamburg':\"grass\", 'Gstaad':\"clay\", 'Newport':\"grass\",\n",
    "       'Granby_CH':\"hard\", 'Bastad':\"clay\", 'Braunschweig_CH':\"clay\", 'Wimbledon':\"grass\",\n",
    "       'Winnipeg_CH':\"hard\", 'ITF_Tokyo':\"hard\", 'Karlsruhe_CH':\"clay\", 'Bloomfield_Hills_CH':\"hard\",\n",
    "       'Eastbourne':\"grass\", 'Queens_Club':\"grass\", 'Halle':\"grass\", 'Sassuolo_CH':\"clay\",\n",
    "       's_Hertogenbosch':\"grass\", 'Stuttgart':\"grass\", 'Roland_Garros':\"clay\",\n",
    "       'Roland_Garros_Juniors':\"clay\", 'Prostejov_CH':\"clay\", 'Vicenza_CH':\"clay\", 'Geneva':\"clay\",\n",
    "       'Rome_Masters':\"clay\", 'Bordeaux_CH':\"clay\", 'Madrid_Masters':\"clay\", 'Cagliari_CH':\"clay\",\n",
    "       'Guangzhou_CH':\"hard\", 'Madrid':\"clay\", 'Munich':\"clay\", 'Bucharest':\"clay\", 'Barcelona':\"clay\",\n",
    "       'Acapulco_CH':\"hard\", 'Monte_Carlo_Masters':\"clay\", 'Estoril':\"clay\", 'Barcelona_CH':\"clay\",\n",
    "       'Miami_Masters':\"hard\", 'San_Luis_Potosi_CH':\"clay\", 'Indian_Wells_Masters':\"hard\",\n",
    "       'Sao_Leopoldo_CH':\"hard\", 'Asuncion_CH':\"clay\", 'Szekesfehervar_CH':\"clay\", 'Santiago':\"clay\",\n",
    "       'Dubai':\"hard\", 'Acapulco':\"hard\", 'Rio_de_Janeiro':\"clay\", 'Los_Cabos':\"hard\", 'Doha':\"hard\",\n",
    "       'Rotterdam':\"hard\", 'Delray_Beach':\"hard\", 'Buenos_Aires':\"clay\", 'Marseille':\"hard\",\n",
    "       'Cordoba':\"clay\", 'Dallas':\"hard\", 'Montpellier':\"hard\", 'Davis_Cup_Qualifiers':\"hard\",\n",
    "       'Cleveland_CH':\"hard\", 'Australian_Open':\"hard\", 'Australian_Open_Juniors':\"hard\",\n",
    "       'Quimper_CH':\"hard\", 'Buenos_Aires_CH':\"clay\", 'Adelaide':\"hard\", 'Auckland':\"hard\",\n",
    "       'Brisbane':\"hard\", 'Hong_Kong':\"hard\", 'Dutch_Championships':\"clay\", 'Ismaning_CH':\"grass\",\n",
    "       'Astana':\"hard\", 'Kitzbuhel':\"clay\", 'Amersfoort_CH':\"clay\", 'Lyon':\"clay\", 'Rome':\"clay\",\n",
    "       'Aix_En_Provence_CH':\"clay\", 'Rome_CH':\"clay\", 'Banja_Luka':\"clay\", 'Marrakech':\"clay\",\n",
    "       'Houston':\"clay\", 'Manama_CH':\"hard\", 'Davis_Cup_WG2':\"hard\", 'Tigre_CH':\"clay\", 'Oeiras_CH':\"clay\",\n",
    "       'Nonthaburi_CH':\"hard\", 'Pune':\"hard\", 'Valencia_CH':\"clay\", 'Roanne_CH':\"hard\", 'Bergamo_CH':\"hard\",\n",
    "       'Vilnius_CH':\"hard\", 'Naples':\"clay\", 'Naples_CH':\"clay\", 'Ortisei_CH':\"hard\", 'Gijon':\"hard\",\n",
    "       'Florence':\"hard\", 'Mouilleron_CH':\"hard\", 'Alicante_CH':\"clay\", 'Tel_Aviv':\"hard\", 'Sofia':\"hard\",\n",
    "       'Seoul':\"hard\", 'Orleans_CH':\"hard\", 'Metz':\"hard\", 'Laver_Cup':\"hard\", 'San_Diego':\"hard\",\n",
    "       'Rennes_CH':\"hard\", 'Tulln_CH':\"clay\", 'San_Benedetto_del_Tronto_CH':\"clay\",\n",
    "       'Indianapolis_CH':\"hard\", 'Verona_CH':\"clay\", 'Rome_GA_CH':\"clay\", 'Wimbledon_Juniors':\"grass\",\n",
    "       'Corrientes_CH':\"clay\", 'Shymkent_CH':\"clay\", 'Zagreb_CH':\"clay\", 'Belgrade':\"hard\",\n",
    "       'Barletta_CH':\"clay\", 'Lugano_CH':\"hard\", 'Zadar_CH':\"clay\", 'ITF_Santo_Domingo':\"clay\",\n",
    "       'Forli_CH':\"clay\", 'Sydney':\"hard\", 'Melbourne':\"hard\", 'ATP_Cup':\"hard\", 'French_Club':\"clay\",\n",
    "       'Pau_CH':\"hard\", 'Bratislava_CH':\"clay\", 'Tenerife_CH':\"hard\", 'Eckental_CH':\"grass\",\n",
    "       'St_Petersburg':\"hard\", 'Ercolano_CH':\"clay\", 'Villena_CH':\"hard\", 'Napoli_CH':\"clay\",\n",
    "       'Santiago_CH':\"clay\", 'Murcia_CH':\"clay\", 'Davis_Cup_Group_I':\"hard\", 'Segovia_CH':\"hard\",\n",
    "       'ITF_Champaign':\"hard\", 'Tokyo_Olympics':\"hard\", 'Poznan_CH':\"clay\", 'ITF_The_Hague':\"clay\",\n",
    "       'ITF_Alkmaar':\"clay\", 'Almaty_CH':\"hard\", 'Lyon_CH':\"clay\", 'Little_Rock_CH':\"hard\",\n",
    "       'Prague_CH':\"clay\", 'Orlando_CH':\"hard\", 'Split_CH':\"clay\", 'Lille_CH':\"hard\", 'Singapore':\"hard\",\n",
    "       'Great_Ocean_Road_Open':\"hard\", 'Antalya':\"clay\", 'Lima_CH':\"clay\", 'Cologne':\"hard\",\n",
    "       'Davis_Cup_WG_II':\"hard\", 'Columbus_CH':\"hard\", 'Koblenz_CH':\"hard\", 'New_York':\"hard\",\n",
    "       'Punta_del_Este_CH':\"clay\", 'Bangkok_CH':\"hard\", 'Noumea_CH':\"hard\"}\n",
    "\n",
    "# Mappa direttamente il tipo di superficie utilizzando l'espressione regolare e il dizionario\n",
    "df_men['surface'] = df_men['match_id'].str.extract(r'\\w*-\\w*-(.*?)-.*')[0].map(tournaments_and_surfaces)\n",
    "# Salva il DataFrame aggiornato con la colonna 'surface' nello stesso file\n",
    "df_men.to_csv('charting-m-points-2020s.csv', index=False)"
   ],
   "id": "83f0064202882afc",
   "outputs": [],
   "execution_count": null
  },
  {
   "metadata": {},
   "cell_type": "markdown",
   "source": "Correlation matrix:",
   "id": "baf3a2923e3a4a4b"
  },
  {
   "metadata": {
    "ExecuteTime": {
     "end_time": "2025-05-16T13:37:22.604689Z",
     "start_time": "2025-05-16T13:37:20.042857Z"
    }
   },
   "cell_type": "code",
   "source": [
    "import os\n",
    "import seaborn as sns\n",
    "import matplotlib.pyplot as plt\n",
    "import pandas as pd\n",
    "\n",
    "features_dataset_dir = '../feature_datasets_csv_reduced_contexts/'\n",
    "\n",
    "# Itera su tutti i file nella cartella specificata\n",
    "for dataset_name in os.listdir(features_dataset_dir):\n",
    "    # Controlla se il file è un CSV\n",
    "    if dataset_name.endswith('.csv'):\n",
    "        # Costruisci il percorso completo del file\n",
    "        file_path = os.path.join(features_dataset_dir, dataset_name)\n",
    "        # Carica il dataset\n",
    "        df = pd.read_csv(file_path, low_memory=False)\n",
    "        corr_matrix = df.corr()\n",
    "\n",
    "    # Itera su righe e colonne della matrice di correlazione\n",
    "    for i in range(len(corr_matrix)):\n",
    "        for j in range(len(corr_matrix.columns)):\n",
    "            corr = corr_matrix.iloc[i, j]\n",
    "            if (corr > 0.6 or corr < -0.6) and i!=j:\n",
    "                print(f\"{dataset_name} riga: {corr_matrix.index[i]}, colonna: {corr_matrix.columns[j]}\")\n",
    "\n",
    "    # Visualizza la matrice di correlazione\n",
    "    plt.figure(figsize=(12, 10))\n",
    "    sns.heatmap(corr_matrix, annot=True, cmap='coolwarm', center=0)\n",
    "    plt.title(f'Matrice di Correlazione per {dataset_name}')\n",
    "    plt.show()"
   ],
   "id": "80ab27a59d0b36bc",
   "outputs": [
    {
     "ename": "ValueError",
     "evalue": "could not convert string to float: 'Adrian_Andreev'",
     "output_type": "error",
     "traceback": [
      "\u001B[1;31m---------------------------------------------------------------------------\u001B[0m",
      "\u001B[1;31mValueError\u001B[0m                                Traceback (most recent call last)",
      "Cell \u001B[1;32mIn[7], line 16\u001B[0m\n\u001B[0;32m     14\u001B[0m     \u001B[38;5;66;03m# Carica il dataset\u001B[39;00m\n\u001B[0;32m     15\u001B[0m     df \u001B[38;5;241m=\u001B[39m pd\u001B[38;5;241m.\u001B[39mread_csv(file_path, low_memory\u001B[38;5;241m=\u001B[39m\u001B[38;5;28;01mFalse\u001B[39;00m)\n\u001B[1;32m---> 16\u001B[0m     corr_matrix \u001B[38;5;241m=\u001B[39m \u001B[43mdf\u001B[49m\u001B[38;5;241;43m.\u001B[39;49m\u001B[43mcorr\u001B[49m\u001B[43m(\u001B[49m\u001B[43m)\u001B[49m\n\u001B[0;32m     18\u001B[0m \u001B[38;5;66;03m# Itera su righe e colonne della matrice di correlazione\u001B[39;00m\n\u001B[0;32m     19\u001B[0m \u001B[38;5;28;01mfor\u001B[39;00m i \u001B[38;5;129;01min\u001B[39;00m \u001B[38;5;28mrange\u001B[39m(\u001B[38;5;28mlen\u001B[39m(corr_matrix)):\n",
      "File \u001B[1;32m~\\anaconda3\\envs\\DMML\\Lib\\site-packages\\pandas\\core\\frame.py:11049\u001B[0m, in \u001B[0;36mDataFrame.corr\u001B[1;34m(self, method, min_periods, numeric_only)\u001B[0m\n\u001B[0;32m  11047\u001B[0m cols \u001B[38;5;241m=\u001B[39m data\u001B[38;5;241m.\u001B[39mcolumns\n\u001B[0;32m  11048\u001B[0m idx \u001B[38;5;241m=\u001B[39m cols\u001B[38;5;241m.\u001B[39mcopy()\n\u001B[1;32m> 11049\u001B[0m mat \u001B[38;5;241m=\u001B[39m \u001B[43mdata\u001B[49m\u001B[38;5;241;43m.\u001B[39;49m\u001B[43mto_numpy\u001B[49m\u001B[43m(\u001B[49m\u001B[43mdtype\u001B[49m\u001B[38;5;241;43m=\u001B[39;49m\u001B[38;5;28;43mfloat\u001B[39;49m\u001B[43m,\u001B[49m\u001B[43m \u001B[49m\u001B[43mna_value\u001B[49m\u001B[38;5;241;43m=\u001B[39;49m\u001B[43mnp\u001B[49m\u001B[38;5;241;43m.\u001B[39;49m\u001B[43mnan\u001B[49m\u001B[43m,\u001B[49m\u001B[43m \u001B[49m\u001B[43mcopy\u001B[49m\u001B[38;5;241;43m=\u001B[39;49m\u001B[38;5;28;43;01mFalse\u001B[39;49;00m\u001B[43m)\u001B[49m\n\u001B[0;32m  11051\u001B[0m \u001B[38;5;28;01mif\u001B[39;00m method \u001B[38;5;241m==\u001B[39m \u001B[38;5;124m\"\u001B[39m\u001B[38;5;124mpearson\u001B[39m\u001B[38;5;124m\"\u001B[39m:\n\u001B[0;32m  11052\u001B[0m     correl \u001B[38;5;241m=\u001B[39m libalgos\u001B[38;5;241m.\u001B[39mnancorr(mat, minp\u001B[38;5;241m=\u001B[39mmin_periods)\n",
      "File \u001B[1;32m~\\anaconda3\\envs\\DMML\\Lib\\site-packages\\pandas\\core\\frame.py:1993\u001B[0m, in \u001B[0;36mDataFrame.to_numpy\u001B[1;34m(self, dtype, copy, na_value)\u001B[0m\n\u001B[0;32m   1991\u001B[0m \u001B[38;5;28;01mif\u001B[39;00m dtype \u001B[38;5;129;01mis\u001B[39;00m \u001B[38;5;129;01mnot\u001B[39;00m \u001B[38;5;28;01mNone\u001B[39;00m:\n\u001B[0;32m   1992\u001B[0m     dtype \u001B[38;5;241m=\u001B[39m np\u001B[38;5;241m.\u001B[39mdtype(dtype)\n\u001B[1;32m-> 1993\u001B[0m result \u001B[38;5;241m=\u001B[39m \u001B[38;5;28;43mself\u001B[39;49m\u001B[38;5;241;43m.\u001B[39;49m\u001B[43m_mgr\u001B[49m\u001B[38;5;241;43m.\u001B[39;49m\u001B[43mas_array\u001B[49m\u001B[43m(\u001B[49m\u001B[43mdtype\u001B[49m\u001B[38;5;241;43m=\u001B[39;49m\u001B[43mdtype\u001B[49m\u001B[43m,\u001B[49m\u001B[43m \u001B[49m\u001B[43mcopy\u001B[49m\u001B[38;5;241;43m=\u001B[39;49m\u001B[43mcopy\u001B[49m\u001B[43m,\u001B[49m\u001B[43m \u001B[49m\u001B[43mna_value\u001B[49m\u001B[38;5;241;43m=\u001B[39;49m\u001B[43mna_value\u001B[49m\u001B[43m)\u001B[49m\n\u001B[0;32m   1994\u001B[0m \u001B[38;5;28;01mif\u001B[39;00m result\u001B[38;5;241m.\u001B[39mdtype \u001B[38;5;129;01mis\u001B[39;00m \u001B[38;5;129;01mnot\u001B[39;00m dtype:\n\u001B[0;32m   1995\u001B[0m     result \u001B[38;5;241m=\u001B[39m np\u001B[38;5;241m.\u001B[39masarray(result, dtype\u001B[38;5;241m=\u001B[39mdtype)\n",
      "File \u001B[1;32m~\\anaconda3\\envs\\DMML\\Lib\\site-packages\\pandas\\core\\internals\\managers.py:1694\u001B[0m, in \u001B[0;36mBlockManager.as_array\u001B[1;34m(self, dtype, copy, na_value)\u001B[0m\n\u001B[0;32m   1692\u001B[0m         arr\u001B[38;5;241m.\u001B[39mflags\u001B[38;5;241m.\u001B[39mwriteable \u001B[38;5;241m=\u001B[39m \u001B[38;5;28;01mFalse\u001B[39;00m\n\u001B[0;32m   1693\u001B[0m \u001B[38;5;28;01melse\u001B[39;00m:\n\u001B[1;32m-> 1694\u001B[0m     arr \u001B[38;5;241m=\u001B[39m \u001B[38;5;28;43mself\u001B[39;49m\u001B[38;5;241;43m.\u001B[39;49m\u001B[43m_interleave\u001B[49m\u001B[43m(\u001B[49m\u001B[43mdtype\u001B[49m\u001B[38;5;241;43m=\u001B[39;49m\u001B[43mdtype\u001B[49m\u001B[43m,\u001B[49m\u001B[43m \u001B[49m\u001B[43mna_value\u001B[49m\u001B[38;5;241;43m=\u001B[39;49m\u001B[43mna_value\u001B[49m\u001B[43m)\u001B[49m\n\u001B[0;32m   1695\u001B[0m     \u001B[38;5;66;03m# The underlying data was copied within _interleave, so no need\u001B[39;00m\n\u001B[0;32m   1696\u001B[0m     \u001B[38;5;66;03m# to further copy if copy=True or setting na_value\u001B[39;00m\n\u001B[0;32m   1698\u001B[0m \u001B[38;5;28;01mif\u001B[39;00m na_value \u001B[38;5;129;01mis\u001B[39;00m lib\u001B[38;5;241m.\u001B[39mno_default:\n",
      "File \u001B[1;32m~\\anaconda3\\envs\\DMML\\Lib\\site-packages\\pandas\\core\\internals\\managers.py:1753\u001B[0m, in \u001B[0;36mBlockManager._interleave\u001B[1;34m(self, dtype, na_value)\u001B[0m\n\u001B[0;32m   1751\u001B[0m     \u001B[38;5;28;01melse\u001B[39;00m:\n\u001B[0;32m   1752\u001B[0m         arr \u001B[38;5;241m=\u001B[39m blk\u001B[38;5;241m.\u001B[39mget_values(dtype)\n\u001B[1;32m-> 1753\u001B[0m     \u001B[43mresult\u001B[49m\u001B[43m[\u001B[49m\u001B[43mrl\u001B[49m\u001B[38;5;241;43m.\u001B[39;49m\u001B[43mindexer\u001B[49m\u001B[43m]\u001B[49m \u001B[38;5;241m=\u001B[39m arr\n\u001B[0;32m   1754\u001B[0m     itemmask[rl\u001B[38;5;241m.\u001B[39mindexer] \u001B[38;5;241m=\u001B[39m \u001B[38;5;241m1\u001B[39m\n\u001B[0;32m   1756\u001B[0m \u001B[38;5;28;01mif\u001B[39;00m \u001B[38;5;129;01mnot\u001B[39;00m itemmask\u001B[38;5;241m.\u001B[39mall():\n",
      "\u001B[1;31mValueError\u001B[0m: could not convert string to float: 'Adrian_Andreev'"
     ]
    }
   ],
   "execution_count": 7
  },
  {
   "metadata": {},
   "cell_type": "markdown",
   "source": "Grouping correlated features:\n",
   "id": "8f394c96aab17dd9"
  },
  {
   "metadata": {
    "ExecuteTime": {
     "end_time": "2025-05-16T13:25:26.198703Z",
     "start_time": "2025-05-16T13:25:26.037129Z"
    }
   },
   "cell_type": "code",
   "source": [
    "import os\n",
    "import pandas as pd\n",
    "import numpy as np\n",
    "\n",
    "features_dataset_dir = '../feature_datasets_csv_reduced_contexts/'\n",
    "features_dataset_dir_reduced_features = '../feature_datasets_csv_reduced_contexts&features/'\n",
    "\n",
    "# Iterate through all files in directory\n",
    "for dataset_name in os.listdir(features_dataset_dir):\n",
    "    if dataset_name.endswith('.csv'):\n",
    "        file_path = os.path.join(features_dataset_dir, dataset_name)\n",
    "        df = pd.read_csv(file_path)\n",
    "        dest_file_path = os.path.join(features_dataset_dir_reduced_features, dataset_name)\n",
    "\n",
    "        # Calculate forehand/backhand ratios for all three shots\n",
    "        df['opening_2nd_ground_fh_bh_ratio'] = df['opening_2nd_forehand_ground'] / df['opening_2nd_backhand_ground']\n",
    "        df['opening_3rd_ground_fh_bh_ratio'] = df['opening_3rd_forehand_ground'] / df['opening_3rd_backhand_ground']\n",
    "\n",
    "        # Drop original columns\n",
    "        columns_to_drop = ['opening_2nd_forehand_ground', 'opening_2nd_backhand_ground',\n",
    "                           'opening_3rd_forehand_ground', 'opening_3rd_backhand_ground', 'opening_2nd_slice_shot','opening_3rd_slice_shot']\n",
    "\n",
    "        if 'on response' in dataset_name:\n",
    "            df['opening_1st_ground_fh_bh_ratio'] = df['opening_1st_forehand_ground'] / df['opening_1st_backhand_ground']\n",
    "            columns_to_drop.append('opening_1st_forehand_ground')\n",
    "            columns_to_drop.append('opening_1st_backhand_ground')\n",
    "            columns_to_drop.append('opening_1st_slice_shot')\n",
    "            mask1 = np.isinf(df['opening_1st_ground_fh_bh_ratio'])\n",
    "            for idx in df[mask1].index:\n",
    "                print(idx,dataset_name)\n",
    "\n",
    "        mask2 = np.isinf(df['opening_2nd_ground_fh_bh_ratio'])\n",
    "        for idx in df[mask2].index:\n",
    "            print(idx,dataset_name)\n",
    "        mask3 = np.isinf(df['opening_3rd_ground_fh_bh_ratio'])\n",
    "        for idx in df[mask3].index:\n",
    "            print(idx,dataset_name)\n",
    "            df.at[idx,'opening_3rd_ground_fh_bh_ratio'] = 24\n",
    "\n",
    "\n",
    "        df = df.drop(columns=columns_to_drop)\n",
    "\n",
    "        # Save modified dataset\n",
    "        df.to_csv(dest_file_path, index=False)\n"
   ],
   "id": "a8fd0957a9a6838a",
   "outputs": [
    {
     "name": "stdout",
     "output_type": "stream",
     "text": [
      "234 on serve_ on hard.csv\n"
     ]
    }
   ],
   "execution_count": 1
  },
  {
   "metadata": {},
   "cell_type": "markdown",
   "source": "",
   "id": "ae80803b1080c9ab"
  }
 ],
 "metadata": {
  "kernelspec": {
   "display_name": "Python 3",
   "language": "python",
   "name": "python3"
  },
  "language_info": {
   "codemirror_mode": {
    "name": "ipython",
    "version": 2
   },
   "file_extension": ".py",
   "mimetype": "text/x-python",
   "name": "python",
   "nbconvert_exporter": "python",
   "pygments_lexer": "ipython2",
   "version": "2.7.6"
  }
 },
 "nbformat": 4,
 "nbformat_minor": 5
}
