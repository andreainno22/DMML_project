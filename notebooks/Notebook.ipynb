{
 "cells": [
  {
   "metadata": {},
   "cell_type": "markdown",
   "source": "Mapping the surfaces into the dataset of men points:",
   "id": "edf2fd54a034623"
  },
  {
   "metadata": {},
   "cell_type": "code",
   "source": [
    "import pandas as pd\n",
    "\n",
    "df_men = pd.read_csv('../points_datasets/charting-m-points-2020s.csv', low_memory=False)\n",
    "len(df_men)"
   ],
   "id": "44a1c08ae1800a84",
   "outputs": [],
   "execution_count": null
  },
  {
   "metadata": {},
   "cell_type": "markdown",
   "source": "Extracting the players names from the column 'match_id':",
   "id": "4d37250718115095"
  },
  {
   "metadata": {},
   "cell_type": "code",
   "source": [
    "# Estrai i nomi dei giocatori dalla colonna 'match_id'\n",
    "players = df_men['match_id'].str.extract(r'(\\w+_\\w+)-(\\w+_\\w+)')\n",
    "\n",
    "# Combina i nomi dei giocatori in un unico elenco con la superficie\n",
    "df_men['player_1'] = players[0]\n",
    "df_men['player_2'] = players[1]\n",
    "\n",
    "# Riorganizza i dati per avere un'unica colonna con i nomi dei giocatori e le superfici\n",
    "player_surface = pd.concat([\n",
    "    df_men[['player_1', 'surface']].rename(columns={'player_1': 'player'}),\n",
    "    df_men[['player_2', 'surface']].rename(columns={'player_2': 'player'})\n",
    "])\n",
    "\n",
    "# crea un dizionario con i nomi dei giocatori come chiave e le superfici su cui ha giocato almeno una volte come valore\n",
    "# Crea un dizionario con i nomi dei giocatori come chiave e le superfici come valore\n",
    "player_surface_dict = player_surface.groupby('player')['surface'].apply(set).to_dict()\n",
    "\n",
    "# Stampa il dizionario risultante\n",
    "print(player_surface_dict)\n"
   ],
   "id": "5a79e41810155804",
   "outputs": [],
   "execution_count": null
  },
  {
   "metadata": {},
   "cell_type": "code",
   "source": "df_men",
   "id": "20fcfcdce4fec238",
   "outputs": [],
   "execution_count": null
  },
  {
   "metadata": {},
   "cell_type": "markdown",
   "source": "Total number of matches:\n",
   "id": "634d9867c671a94b"
  },
  {
   "metadata": {},
   "cell_type": "code",
   "source": "len(df_men['match_id'].unique())",
   "id": "6d57a3b5bc6c98c9",
   "outputs": [],
   "execution_count": null
  },
  {
   "metadata": {},
   "cell_type": "markdown",
   "source": "Sinner points:",
   "id": "31e544a5cf161d86"
  },
  {
   "metadata": {},
   "cell_type": "code",
   "source": "sinner = df_men[df_men['match_id'].str.contains(r'Jannik_Sinner')]",
   "id": "cbb4a563084418eb",
   "outputs": [],
   "execution_count": null
  },
  {
   "metadata": {},
   "cell_type": "markdown",
   "source": "Zverev points:",
   "id": "7fb2804720112dde"
  },
  {
   "metadata": {},
   "cell_type": "code",
   "source": [
    "zverev = df_men[df_men['match_id'].str.contains(r'Alexander_Zverev')]\n",
    "zverev"
   ],
   "id": "6fdb6294ceb4b200",
   "outputs": [],
   "execution_count": null
  },
  {
   "metadata": {},
   "cell_type": "markdown",
   "source": "Alcaraz points:",
   "id": "a1c34e1be613f9cf"
  },
  {
   "metadata": {},
   "cell_type": "code",
   "source": [
    "alcaraz = df_men[df_men['match_id'].str.contains(r'Carlos_Alcaraz')]\n",
    "alcaraz"
   ],
   "id": "e6ce994541fe3ee2",
   "outputs": [],
   "execution_count": null
  },
  {
   "metadata": {},
   "cell_type": "markdown",
   "source": "Djokovic points:",
   "id": "fbc3af595d631f6a"
  },
  {
   "metadata": {},
   "cell_type": "code",
   "source": "djokovic = df_men[df_men['match_id'].str.contains(r'Novak_Djokovic')]",
   "id": "5ee068cfa322716c",
   "outputs": [],
   "execution_count": null
  },
  {
   "metadata": {},
   "cell_type": "markdown",
   "source": "Fritz points:",
   "id": "e9713109140c7665"
  },
  {
   "metadata": {},
   "cell_type": "code",
   "source": "fritz = df_men[df_men['match_id'].str.contains(r'Taylor_Fritz')]",
   "id": "d8de3145c9180d5",
   "outputs": [],
   "execution_count": null
  },
  {
   "metadata": {},
   "cell_type": "markdown",
   "source": "Mean of the points number of the five players:",
   "id": "825c87aeca279c"
  },
  {
   "metadata": {},
   "cell_type": "code",
   "source": [
    "points_mean = (len(sinner) + len(zverev) + len(alcaraz) + len(djokovic) + len(fritz)) / 5\n",
    "points_mean"
   ],
   "id": "fba01f4205e94a0a",
   "outputs": [],
   "execution_count": null
  },
  {
   "metadata": {},
   "cell_type": "markdown",
   "source": "Mean of the matches analyzed by player:",
   "id": "64f120111df08d07"
  },
  {
   "metadata": {},
   "cell_type": "code",
   "source": [
    "average_match_number = (len(sinner['match_id'].unique()) + len(zverev['match_id'].unique()) + len(\n",
    "    alcaraz['match_id'].unique()) + len(djokovic['match_id'].unique()) + len(fritz['match_id'].unique())) / 5\n",
    "average_match_number"
   ],
   "id": "ca30481b19c8c802",
   "outputs": [],
   "execution_count": null
  },
  {
   "metadata": {},
   "cell_type": "markdown",
   "source": "Dataframe of women:",
   "id": "820a68c4a8eafb1d"
  },
  {
   "metadata": {},
   "cell_type": "code",
   "source": [
    "df_women = pd.read_csv('../points_datasets/charting-w-points-2020s.csv', low_memory=False)\n",
    "df_women"
   ],
   "id": "7e2508def28891cb",
   "outputs": [],
   "execution_count": null
  },
  {
   "metadata": {},
   "cell_type": "markdown",
   "source": "Extracting the woment players names from the column 'match_id':",
   "id": "aff5e5f40c15b937"
  },
  {
   "metadata": {},
   "cell_type": "code",
   "source": [
    "# Estrai i nomi dei giocatori dalla colonna 'match_id'\n",
    "players = df_women['match_id'].str.extract(r'(\\w+_\\w+)-(\\w+_\\w+)')\n",
    "\n",
    "# Combina i nomi dei giocatori in un unico elenco\n",
    "all_players = pd.concat([players[0], players[1]]).unique()\n",
    "\n",
    "# Ordina i nomi in ordine alfabetico\n",
    "all_players = sorted(all_players)\n",
    "\n",
    "# Stampa o salva i nomi dei giocatori\n",
    "print(all_players)\n",
    "print(len(all_players))"
   ],
   "id": "8ca8140878640238",
   "outputs": [],
   "execution_count": null
  },
  {
   "metadata": {},
   "cell_type": "markdown",
   "source": "Total number of matches:\n",
   "id": "138bf87482364c0"
  },
  {
   "metadata": {},
   "cell_type": "code",
   "source": "len(df_women['match_id'].unique())",
   "id": "175d354f8cec4979",
   "outputs": [],
   "execution_count": null
  },
  {
   "metadata": {},
   "cell_type": "markdown",
   "source": "Sabalenka points:\n",
   "id": "6481e5ffee8b9d8d"
  },
  {
   "metadata": {},
   "cell_type": "code",
   "source": [
    "sabalenka = df_women[df_women['match_id'].str.contains(r'Aryna_Sabalenka')]\n",
    "sabalenka"
   ],
   "id": "fe366e97140ea5c5",
   "outputs": [],
   "execution_count": null
  },
  {
   "metadata": {},
   "cell_type": "markdown",
   "source": "Swiatek points:",
   "id": "68444d6418b42eef"
  },
  {
   "metadata": {},
   "cell_type": "code",
   "source": [
    "swiatek = df_women[df_women['match_id'].str.contains(r'Iga_Swiatek')]\n",
    "swiatek"
   ],
   "id": "f1df21af4bd19cfb",
   "outputs": [],
   "execution_count": null
  },
  {
   "metadata": {},
   "cell_type": "markdown",
   "source": "Gauff points:",
   "id": "575fdde75481b365"
  },
  {
   "metadata": {},
   "cell_type": "code",
   "source": [
    "gauff = df_women[df_women['match_id'].str.contains(r'Coco_Gauff')]\n",
    "gauff"
   ],
   "id": "b819760213b5c934",
   "outputs": [],
   "execution_count": null
  },
  {
   "metadata": {},
   "cell_type": "markdown",
   "source": "Pegula points",
   "id": "77431dab3232acb7"
  },
  {
   "metadata": {},
   "cell_type": "code",
   "source": [
    "pegula = df_women[df_women['match_id'].str.contains(r'Jessica_Pegula')]\n",
    "pegula"
   ],
   "id": "b292d8c7e8762396",
   "outputs": [],
   "execution_count": null
  },
  {
   "metadata": {},
   "cell_type": "markdown",
   "source": "Keys points:",
   "id": "6c125e3f8b7696ed"
  },
  {
   "metadata": {},
   "cell_type": "code",
   "source": [
    "keys = df_women[df_women['match_id'].str.contains(r'Madison_Keys')]\n",
    "keys"
   ],
   "id": "5c0b85ebad03457d",
   "outputs": [],
   "execution_count": null
  },
  {
   "metadata": {},
   "cell_type": "markdown",
   "source": "Mean of the point of the five players:",
   "id": "c20d9013a36b9e0e"
  },
  {
   "metadata": {},
   "cell_type": "code",
   "source": [
    "points_mean = (len(sabalenka) + len(swiatek) + len(gauff) + len(pegula) + len(keys)) / 5\n",
    "points_mean"
   ],
   "id": "54f9c74fd3cf2a6",
   "outputs": [],
   "execution_count": null
  },
  {
   "metadata": {},
   "cell_type": "markdown",
   "source": "Mean of the matches analyzed by player:\n",
   "id": "cb14bd77fab1ef90"
  },
  {
   "metadata": {},
   "cell_type": "code",
   "source": [
    "average_match_number = (len(sabalenka['match_id'].unique()) + len(swiatek['match_id'].unique()) + len(\n",
    "    gauff['match_id'].unique()) + len(pegula['match_id'].unique()) + len(keys['match_id'].unique())) / 5\n",
    "average_match_number"
   ],
   "id": "9c6ac3624cbc0e51",
   "outputs": [],
   "execution_count": null
  },
  {
   "metadata": {},
   "cell_type": "markdown",
   "source": [
    "First clustering test, with kmeans and dbscan on the specific context: vary low variance, no relevant clusters are detected.\n",
    "✅ Perché la varianza è bassa nel tuo caso\n",
    "Stai analizzando comportamenti in contesti molto specifici (es. \"1st serve su terra\").\n",
    "\n",
    "In questi contesti, le strategie sono naturalmente simili tra giocatori: tutti affrontano condizioni e dinamiche simili.\n",
    "\n",
    "Quindi è normale che le feature (rate di slice, vincenti, lunghezza media degli scambi, ecc.) abbiano variazioni minime, da cui una PCA schiacciata e clustering difficile.\n",
    "\n",
    "🧭 Strategia: allargare progressivamente il contesto\n",
    "Ottima idea. Puoi procedere così:\n",
    "\n",
    "1. Contesto medio-specializzato\n",
    "Es. \"tutti i punti al servizio su terra\", unendo 1st e 2nd.\n",
    "\n",
    "2. Contesto più ampio\n",
    "Es. \"tutti i punti al servizio\" indipendentemente dalla superficie.\n",
    "\n",
    "3. Contesto generale\n",
    "Tutti i colpi del giocatore, aggregando tutto (serve/response, superfici).\n",
    "\n",
    "🎯 Obiettivo finale:\n",
    "Capire a che livello di granularità emergono:\n",
    "\n",
    "differenze significative tra stili (più cluster distinti, silhouette score alto)\n",
    "\n",
    "oppure confermare che alcuni contesti sono intrinsecamente “uniformanti” (→ bassa varianza, stile unico richiesto)."
   ],
   "id": "5486d49e16c8ec1b"
  },
  {
   "metadata": {},
   "cell_type": "markdown",
   "source": "Loading dataset:",
   "id": "ab2157750badff4d"
  },
  {
   "metadata": {},
   "cell_type": "code",
   "source": [
    "import pandas as pd\n",
    "df = pd.read_csv('../feature_datasets_csv/on response with the 1st_ on clay.csv', low_memory=False)"
   ],
   "id": "f17480d675134280",
   "outputs": [],
   "execution_count": null
  },
  {
   "metadata": {},
   "cell_type": "markdown",
   "source": "I'm trying to merge 2 datasets, on resp. with the 1st on clay and with the 2nd.\n",
   "id": "3ea727297f8115cd"
  },
  {
   "metadata": {},
   "cell_type": "code",
   "source": [
    "import pandas as pd\n",
    "df1 = pd.read_csv('../feature_datasets_csv/on response with the 1st_ on clay.csv', low_memory=False)\n",
    "df2 = pd.read_csv('../feature_datasets_csv/on response with the 2nd_ on clay.csv', low_memory=False)\n",
    "df_concat=pd.concat([df1, df2])"
   ],
   "id": "86f31f761dac7d9",
   "outputs": [],
   "execution_count": null
  },
  {
   "metadata": {},
   "cell_type": "markdown",
   "source": "Hard datasets:",
   "id": "40a7f72e51ed4f48"
  },
  {
   "metadata": {},
   "cell_type": "code",
   "source": [
    "import pandas as pd\n",
    "df_hard=pd.read_csv('../feature_datasets_csv/on response with the 2nd_ on hard.csv', low_memory=False)"
   ],
   "id": "dc89fe2a87aa839c",
   "outputs": [],
   "execution_count": null
  },
  {
   "metadata": {},
   "cell_type": "markdown",
   "source": "Hard dataset, on serve:",
   "id": "a46a451d4458665b"
  },
  {
   "metadata": {},
   "cell_type": "code",
   "source": "df_hard_serve=pd.read_csv('../feature_datasets_csv_reduced_contexts/on serve_ on hard.csv', low_memory=False)",
   "id": "76ef8ae588382bb2",
   "outputs": [],
   "execution_count": null
  },
  {
   "metadata": {},
   "cell_type": "markdown",
   "source": "Correlation matrix:",
   "id": "faddec0e2ba70c2e"
  },
  {
   "metadata": {},
   "cell_type": "code",
   "source": [
    "import pandas as pd\n",
    "import seaborn as sns\n",
    "import matplotlib.pyplot as plt\n",
    "\n",
    "corr_matrix = df_hard.corr()\n",
    "\n",
    "plt.figure(figsize=(10, 8))\n",
    "sns.heatmap(corr_matrix, annot=True, cmap='coolwarm', center=0)\n",
    "plt.title('Matrice di Correlazione')\n",
    "plt.show()"
   ],
   "id": "8714f6d348946219",
   "outputs": [],
   "execution_count": null
  },
  {
   "metadata": {},
   "cell_type": "markdown",
   "source": "Running clustering:",
   "id": "bdfec241d45cb30d"
  },
  {
   "metadata": {},
   "cell_type": "code",
   "source": [
    "from run_clustering import *\n",
    "import pandas as pd\n",
    "\n",
    "# prova kmeans con vari k, stampando i silhouette scores\n",
    "# decente ma meglio agglomerative\n",
    "#run_kmeans_clustering(df_hard_serve)\n",
    "\n",
    "#male\n",
    "#run_dbscan_clustering(df_hard)\n",
    "\n",
    "#gmm: risultati strani, appartenenza alta ma in optics tanto rumore... bah\n",
    "#for k in range(2, 4):\n",
    "#    run_umap_gmm_clustering(df_hard_serve,None,k,15,0.1,0.9,True) #todo: capire perche gmm ha max_probs altissime ma silhouette sempre basso\n",
    "df_clustered=run_umap_agglomerative_clustering(df_hard_serve, None, 3, 2, 'complete', True)\n",
    "\n",
    "#problema di optics: troppi punti di rumore, troppi giocatori rimangono esclusi\n",
    "for min_pts in range(4, 11):\n",
    "   for xi in np.arange(start=0.04, stop=0.12, step=0.01):\n",
    "      df_clustering = run_umap_optics_clustering(df_hard, min_pts=min_pts, xi=xi\n",
    "      min_cluster_size=0.1)\n",
    "#run_umap_optics_clustering(df_hard_serve, 'umap', None, 8, 0.08, 0.1, True)\n",
    "\n",
    "\n",
    "print(\"Righe: \",df_hard.shape[0], \"colonne: \", df_hard.shape[1])"
   ],
   "id": "d98b65a41dd048b1",
   "outputs": [],
   "execution_count": null
  },
  {
   "metadata": {},
   "cell_type": "markdown",
   "source": "Uploading of all the datasets:",
   "id": "97de80069a6830ea"
  },
  {
   "metadata": {},
   "cell_type": "code",
   "source": [
    "import os\n",
    "import pandas as pd\n",
    "\n",
    "dfs=[]\n",
    "features_dataset_dir = '../feature_datasets_csv_reduced_contexts&features/'\n",
    "\n",
    "# Itera su tutti i file nella cartella specificata\n",
    "for dataset_name in os.listdir(features_dataset_dir):\n",
    "    # Controlla se il file è un CSV\n",
    "    if dataset_name.endswith('.csv'):\n",
    "        # Costruisci il percorso completo del file\n",
    "        file_path = os.path.join(features_dataset_dir, dataset_name)\n",
    "        # Carica il dataset\n",
    "        dfs.append((dataset_name,pd.read_csv(file_path, low_memory=False)))"
   ],
   "id": "377e8d02c2d906b6",
   "outputs": [],
   "execution_count": null
  },
  {
   "metadata": {},
   "cell_type": "markdown",
   "source": "UMAP does not preserve the convexity structure.",
   "id": "eeaf485c9a2c1878"
  },
  {
   "metadata": {},
   "cell_type": "markdown",
   "source": "KMeans clustering:",
   "id": "a83ebe7a0ef234ed"
  },
  {
   "metadata": {},
   "cell_type": "code",
   "source": [
    "from run_clustering import *\n",
    "\n",
    "for name, dataframe in dfs:\n",
    "    print(name)\n",
    "    for umap_comp in range(2, 11):\n",
    "        silhouette_scores = []\n",
    "        df_clustered, silhouette_score=run_kmeans_clustering(dataframe, 4, True, umap_comp)\n",
    "        silhouette_scores.append((silhouette_score,umap_comp))\n",
    "    print({name: max(silhouette_scores, key = lambda x: x[0])})"
   ],
   "id": "2f9452a54752820e",
   "outputs": [],
   "execution_count": null
  },
  {
   "metadata": {},
   "cell_type": "markdown",
   "source": "Agglomerative clustering:",
   "id": "b2cbc4b056ea3c4b"
  },
  {
   "metadata": {},
   "cell_type": "code",
   "source": [
    "from run_clustering import *\n",
    "\n",
    "for name, dataframe in dfs:\n",
    "    print(name)\n",
    "    for umap_comp in range(2, 11):\n",
    "        silhouette_scores = []\n",
    "        df_clustered, silhouette_score=run_umap_agglomerative_clustering(dataframe, None, 4, umap_comp, 'complete', False)\n",
    "        silhouette_scores.append((silhouette_score,umap_comp))\n",
    "    print({name: max(silhouette_scores, key = lambda x: x[1])})"
   ],
   "id": "de596699b8daf97d",
   "outputs": [],
   "execution_count": null
  },
  {
   "metadata": {},
   "cell_type": "markdown",
   "source": "Optics reachability plot:",
   "id": "83601a6eaa50b37"
  },
  {
   "metadata": {},
   "cell_type": "code",
   "source": [
    "from run_clustering import *\n",
    "\n",
    "for name, dataframe in dfs:\n",
    "    print(name)\n",
    "    for min_pts in range(6, 11):\n",
    "        for xi in np.arange(start=0.06, stop=0.12, step=0.01):\n",
    "            df_clustering = run_umap_optics_clustering(dataframe, min_pts=min_pts, xi=xi)"
   ],
   "id": "247fd93e184344a8",
   "outputs": [],
   "execution_count": null
  },
  {
   "metadata": {},
   "cell_type": "markdown",
   "source": "GMM cluster:",
   "id": "393c88d3dcc9471a"
  },
  {
   "metadata": {},
   "cell_type": "code",
   "source": [
    "from run_clustering import run_umap_gmm_clustering\n",
    "for name, dataframe in dfs:\n",
    "    print(name)\n",
    "    for k in range(4, 5):\n",
    "        run_umap_gmm_clustering(dataframe,None,k,15,0.1,0.9,True)\n"
   ],
   "id": "4e3d1abc206a2ec",
   "outputs": [],
   "execution_count": null
  },
  {
   "metadata": {},
   "cell_type": "markdown",
   "source": "Agglomerate statistic by cluster visualization:",
   "id": "df4906fbf74618f7"
  },
  {
   "metadata": {},
   "cell_type": "code",
   "source": [
    "from visualize_results import cluster_feature_deltas\n",
    "from visualize_results import aggregate_features_by_cluster\n",
    "import seaborn as sns\n",
    "import matplotlib.pyplot as plt\n",
    "# todo: visualizzare i cluster\n",
    "# stampa le features aggregate per cluster\n",
    "aggregated = aggregate_features_by_cluster(df_clustered)\n",
    "print(aggregated)\n",
    "\n",
    "# stampa la hitmap della differenza nelle statistiche tra i clusters e la media globale\n",
    "sns.heatmap(cluster_feature_deltas(df_clustered), annot=True, cmap='coolwarm')\n",
    "plt.title(\"Scostamenti medi delle feature per cluster\")\n",
    "plt.show()\n"
   ],
   "id": "79ea9c52117db76b",
   "outputs": [],
   "execution_count": null
  },
  {
   "metadata": {},
   "cell_type": "markdown",
   "source": "Variance visualization and hopkins statistic. A 0.75 Hopkins stat indicates clustering tendency with a 90% confidence level.",
   "id": "42a78c24a4e0df2c"
  },
  {
   "metadata": {},
   "cell_type": "code",
   "source": [
    "from sklearn.preprocessing import StandardScaler\n",
    "from run_clustering import hopkins\n",
    "#todo: rivalutare hopkins sul nuovo dataset\n",
    "scaler = StandardScaler()\n",
    "X_scaled = scaler.fit_transform()\n",
    "df_hard.var().sort_values()\n",
    "mean, std_dev, values = hopkins(X_scaled)\n",
    "print(f\"Hopkins statistic (df): {mean:.3f} ± {std_dev:.3f}\")\n",
    "\n",
    "scaler = StandardScaler()\n",
    "X_scaled = scaler.fit_transform(df_concat)\n",
    "df_concat.var().sort_values()\n",
    "mean, std_dev, values = hopkins(X_scaled)\n",
    "print(f\"Hopkins statistic (df_concat): {mean:.3f} ± {std_dev:.3f}\")\n"
   ],
   "id": "bc84cd993e8d277f",
   "outputs": [],
   "execution_count": null
  },
  {
   "metadata": {},
   "cell_type": "markdown",
   "source": "Variance explained after PCA:",
   "id": "bad8eb5c40830aea"
  },
  {
   "metadata": {},
   "cell_type": "code",
   "source": [
    "from run_clustering import explained_variance_from_features\n",
    "\n",
    "explained_variance_from_features(df)\n"
   ],
   "id": "44a833976065fd60",
   "outputs": [],
   "execution_count": null
  },
  {
   "metadata": {},
   "cell_type": "markdown",
   "source": "The first 16 components explain more than 98% of the variance, maybe i can drop the last 4.",
   "id": "6262086f6f673c6c"
  },
  {
   "metadata": {},
   "cell_type": "markdown",
   "source": "",
   "id": "b8f4cd790995a1f7"
  },
  {
   "metadata": {},
   "cell_type": "code",
   "source": "",
   "id": "92f8c2752cf0d4e3",
   "outputs": [],
   "execution_count": null
  }
 ],
 "metadata": {
  "kernelspec": {
   "display_name": "Python 3",
   "language": "python",
   "name": "python3"
  },
  "language_info": {
   "codemirror_mode": {
    "name": "ipython",
    "version": 2
   },
   "file_extension": ".py",
   "mimetype": "text/x-python",
   "name": "python",
   "nbconvert_exporter": "python",
   "pygments_lexer": "ipython2",
   "version": "2.7.6"
  }
 },
 "nbformat": 4,
 "nbformat_minor": 5
}
